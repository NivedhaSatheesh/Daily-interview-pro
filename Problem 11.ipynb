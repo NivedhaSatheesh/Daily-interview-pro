{
    "nbformat_minor": 1, 
    "cells": [
        {
            "execution_count": 1, 
            "cell_type": "code", 
            "metadata": {}, 
            "outputs": [], 
            "source": "class newNode: \n    def __init__(self,data): \n        self.data = data \n        self.left = self.right = None"
        }, 
        {
            "execution_count": 3, 
            "cell_type": "code", 
            "metadata": {}, 
            "outputs": [], 
            "source": "def mirror(node):  \n  \n    if (node == None): \n        return\n    else: \n  \n        temp = node  \n          \n        \n        mirror(node.left)  \n        mirror(node.right)  \n  \n        \"\"\" swap the pointers in this node \"\"\"\n        temp = node.left  \n        node.left = node.right  \n        node.right = temp  \n\n        \"\"\" Helper function to print Inorder traversal.\"\"\"\ndef inOrder(node) : \n  \n    if (node == None):  \n        return\n          \n    inOrder(node.left)  \n    print(node.data, end = \" \")  \n    inOrder(node.right) "
        }, 
        {
            "execution_count": 4, 
            "cell_type": "code", 
            "metadata": {}, 
            "outputs": [
                {
                    "output_type": "stream", 
                    "name": "stdout", 
                    "text": "Inorder traversal of the constructed tree is\n4 2 5 1 3 \nInorder traversal of the mirror treeis \n3 1 5 2 4 "
                }
            ], 
            "source": "if __name__ ==\"__main__\":  \n  \n    root = newNode(1)  \n    root.left = newNode(2)  \n    root.right = newNode(3)  \n    root.left.left = newNode(4)  \n    root.left.right = newNode(5)  \n  \n    \"\"\" Print inorder traversal of \n        the input tree \"\"\"\n    print(\"Inorder traversal of the\",  \n               \"constructed tree is\")  \n    inOrder(root)  \n      \n    \"\"\" Convert tree to its mirror \"\"\"\n    mirror(root)  \n  \n    \"\"\" Print inorder traversal of  \n        the mirror tree \"\"\"\n    print(\"\\nInorder traversal of\",  \n              \"the mirror treeis \")  \n    inOrder(root)  "
        }, 
        {
            "execution_count": null, 
            "cell_type": "code", 
            "metadata": {}, 
            "outputs": [], 
            "source": ""
        }
    ], 
    "metadata": {
        "kernelspec": {
            "display_name": "Python 3.6", 
            "name": "python3", 
            "language": "python"
        }, 
        "language_info": {
            "mimetype": "text/x-python", 
            "nbconvert_exporter": "python", 
            "version": "3.6.8", 
            "name": "python", 
            "file_extension": ".py", 
            "pygments_lexer": "ipython3", 
            "codemirror_mode": {
                "version": 3, 
                "name": "ipython"
            }
        }
    }, 
    "nbformat": 4
}