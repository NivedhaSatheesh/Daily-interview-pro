{
    "nbformat_minor": 1, 
    "cells": [
        {
            "execution_count": 3, 
            "cell_type": "code", 
            "metadata": {}, 
            "outputs": [], 
            "source": "def distance(str1, str2, m , n): \n  \n    # If first string is empty, the only option is to insert all characters of second string into first \n    if m==0: \n         return n \n  \n    # If second string is empty, the only option is to \n    # remove all characters of first string \n    if n==0: \n        return m \n  \n    # If last characters of two strings are same, nothing \n    # much to do. Ignore last characters and get count for \n    # remaining strings. \n    if str1[m-1]==str2[n-1]: \n        return editDistance(str1,str2,m-1,n-1) \n  \n    # If last characters are not same, consider all three \n    # operations on last character of first string, recursively \n    # compute minimum cost for all three operations and take \n    # minimum of three values. \n    return 1 + min(editDistance(str1, str2, m, n-1),    # Insert \n                   editDistance(str1, str2, m-1, n),    # Remove \n                   editDistance(str1, str2, m-1, n-1)    # Replace \n                   ) "
        }, 
        {
            "execution_count": 5, 
            "cell_type": "code", 
            "metadata": {}, 
            "outputs": [
                {
                    "execution_count": 5, 
                    "metadata": {}, 
                    "data": {
                        "text/plain": "2"
                    }, 
                    "output_type": "execute_result"
                }
            ], 
            "source": "distance('biting', 'sitting',6,7)"
        }, 
        {
            "execution_count": null, 
            "cell_type": "code", 
            "metadata": {}, 
            "outputs": [], 
            "source": ""
        }
    ], 
    "metadata": {
        "kernelspec": {
            "display_name": "Python 3.6", 
            "name": "python3", 
            "language": "python"
        }, 
        "language_info": {
            "mimetype": "text/x-python", 
            "nbconvert_exporter": "python", 
            "version": "3.6.8", 
            "name": "python", 
            "file_extension": ".py", 
            "pygments_lexer": "ipython3", 
            "codemirror_mode": {
                "version": 3, 
                "name": "ipython"
            }
        }
    }, 
    "nbformat": 4
}