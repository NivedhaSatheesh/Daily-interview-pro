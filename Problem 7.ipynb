{
    "nbformat_minor": 1, 
    "cells": [
        {
            "source": "#Question: Given a list of numbers and a number k, return whether any two numbers from the list add up to k", 
            "cell_type": "markdown", 
            "metadata": {}
        }, 
        {
            "execution_count": 1, 
            "cell_type": "code", 
            "metadata": {}, 
            "outputs": [], 
            "source": "#Function that returns True if any two numbers adds to k, else returns False. The array is first sorted.\n\ndef sum1(num,k): \n    num_sorted=sorted(num) \n    num2=num_sorted \n    res=\"\" \n    i=0 \n    j=len(num)-1 \n    while i<len(num) and j>=0: \n        value1=num_sorted[i] \n        value2=num2[j] \n        diff=value1+value2-k \n        if diff==0: \n            return True \n            res=\"True\" \n        elif diff>0: \n            j-=1 \n        elif diff<0: \n            i+=1 \n    if res==\"True\": \n        return True \n    else: \n        return False\n"
        }, 
        {
            "execution_count": null, 
            "cell_type": "code", 
            "metadata": {}, 
            "outputs": [], 
            "source": "num=[10,15,3,7] \nk=35 \nsum1(num,k)"
        }
    ], 
    "metadata": {
        "kernelspec": {
            "display_name": "Python 3.6", 
            "name": "python3", 
            "language": "python"
        }, 
        "language_info": {
            "mimetype": "text/x-python", 
            "nbconvert_exporter": "python", 
            "version": "3.6.8", 
            "name": "python", 
            "file_extension": ".py", 
            "pygments_lexer": "ipython3", 
            "codemirror_mode": {
                "version": 3, 
                "name": "ipython"
            }
        }
    }, 
    "nbformat": 4
}