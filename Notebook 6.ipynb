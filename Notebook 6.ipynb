{
    "nbformat_minor": 1, 
    "cells": [
        {
            "execution_count": 10, 
            "cell_type": "code", 
            "metadata": {}, 
            "outputs": [], 
            "source": "def sort123( a, arr_size): \n    lo = 0\n    hi = arr_size - 1\n    mid = 0\n    while mid <= hi: \n        if a[mid] == 1: \n            a[lo],a[mid] = a[mid],a[lo] \n            lo = lo + 1\n            mid = mid + 1\n        elif a[mid] == 2: \n            mid = mid + 1\n        else: \n            a[mid],a[hi] = a[hi],a[mid]  \n            hi = hi - 1\n    return a \n      "
        }, 
        {
            "execution_count": 11, 
            "cell_type": "code", 
            "metadata": {}, 
            "outputs": [], 
            "source": "# Function to print array \ndef printArray( a): \n    for k in a: \n        print (k) \n    print\n      "
        }, 
        {
            "execution_count": 9, 
            "cell_type": "code", 
            "metadata": {}, 
            "outputs": [
                {
                    "output_type": "stream", 
                    "name": "stdout", 
                    "text": "Array aftter segregation :\n1\n1\n2\n2\n3\n3\n3\n"
                }
            ], 
            "source": "# Driver Program \narr = [3, 3, 2, 1, 3, 2, 1] \narr_size = len(arr) \narr = sort012( arr, arr_size) \nprint (\"Array aftter segregation :\" )\nprintArray(arr) "
        }, 
        {
            "execution_count": null, 
            "cell_type": "code", 
            "metadata": {}, 
            "outputs": [], 
            "source": ""
        }
    ], 
    "metadata": {
        "kernelspec": {
            "display_name": "Python 3.6", 
            "name": "python3", 
            "language": "python"
        }, 
        "language_info": {
            "mimetype": "text/x-python", 
            "nbconvert_exporter": "python", 
            "version": "3.6.8", 
            "name": "python", 
            "file_extension": ".py", 
            "pygments_lexer": "ipython3", 
            "codemirror_mode": {
                "version": 3, 
                "name": "ipython"
            }
        }
    }, 
    "nbformat": 4
}