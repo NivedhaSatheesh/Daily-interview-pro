{
    "nbformat_minor": 1, 
    "cells": [
        {
            "execution_count": 1, 
            "cell_type": "code", 
            "metadata": {}, 
            "outputs": [], 
            "source": "class newNode:  \n  \n    # Constructor to create a new node  \n    def __init__(self, data):  \n        self.key = data  \n        self.left = None\n        self.right = None\n  "
        }, 
        {
            "execution_count": 5, 
            "cell_type": "code", 
            "metadata": {}, 
            "outputs": [], 
            "source": "# To insert a new node in BST  \ndef insert(node, key): \n      \n    # if tree is empty return new node  \n    if node == None:  \n        return newNode(key) \n  \n    # if key is less then or grater then  \n    # node value then recur down the tree  \n    if key < node.key:  \n        node.left = insert(node.left, key)  \n    elif key > node.key:  \n        node.right = insert(node.right, key) \n          \n    # return the node pointer  \n    return node "
        }, 
        {
            "execution_count": 2, 
            "cell_type": "code", 
            "metadata": {}, 
            "outputs": [], 
            "source": "def findMaxforN(root, N): \n      \n    # Base cases  \n    if root == None:  \n        return -1\n    if root.key == N:  \n        return N \n  \n    # If root's value is smaller, try in  \n    # right subtree  \n    elif root.key < N:  \n        k = findMaxforN(root.right, N)  \n        if k == -1: \n            return root.key  \n        else: \n            return k \n  \n    # If root's key is greater, return  \n    # value from left subtree.  \n    elif root.key > N:  \n        return findMaxforN(root.left, N) "
        }, 
        {
            "execution_count": 3, 
            "cell_type": "code", 
            "metadata": {}, 
            "outputs": [
                {
                    "output_type": "stream", 
                    "name": "stdout", 
                    "text": "3\n"
                }
            ], 
            "source": "if __name__ == '__main__': \n    N = 4\n  \n    # creating following BST  \n    #  \n    #             5  \n    #         / \\  \n    #         2     12  \n    #     / \\ / \\  \n    #     1 3 9 21  \n    #                 / \\  \n    #             19 25  \n    root = None\n    root = insert(root, 25) \n    insert(root, 2)  \n    insert(root, 1)  \n    insert(root, 3)  \n    insert(root, 12)  \n    insert(root, 9)  \n    insert(root, 21)  \n    insert(root, 19)  \n    insert(root, 25)  \n    print(findMaxforN(root, N))  "
        }, 
        {
            "execution_count": null, 
            "cell_type": "code", 
            "metadata": {}, 
            "outputs": [], 
            "source": ""
        }
    ], 
    "metadata": {
        "kernelspec": {
            "display_name": "Python 3.6", 
            "name": "python3", 
            "language": "python"
        }, 
        "language_info": {
            "mimetype": "text/x-python", 
            "nbconvert_exporter": "python", 
            "version": "3.6.8", 
            "name": "python", 
            "file_extension": ".py", 
            "pygments_lexer": "ipython3", 
            "codemirror_mode": {
                "version": 3, 
                "name": "ipython"
            }
        }
    }, 
    "nbformat": 4
}