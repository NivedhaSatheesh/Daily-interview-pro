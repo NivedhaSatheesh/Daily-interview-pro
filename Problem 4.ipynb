{
    "nbformat_minor": 1, 
    "cells": [
        {
            "execution_count": 1, 
            "cell_type": "code", 
            "metadata": {}, 
            "outputs": [], 
            "source": "def FirstAndLast(arr, target) : \n    n=len(arr)\n    first = -1\n    last = -1\n    for i in range(0,n) : \n        if (target != arr[i]) : \n            continue\n        if (first == -1) : \n            first = i \n        last = i \n      \n    if (first != -1) : \n        print( \"First Occurrence = \" , first,  \n               \" \\nLast Occurrence = \" , last) \n    else : \n        print(\"Not Found\")"
        }, 
        {
            "execution_count": null, 
            "cell_type": "code", 
            "metadata": {}, 
            "outputs": [], 
            "source": ""
        }
    ], 
    "metadata": {
        "kernelspec": {
            "display_name": "Python 3.6", 
            "name": "python3", 
            "language": "python"
        }, 
        "language_info": {
            "mimetype": "text/x-python", 
            "nbconvert_exporter": "python", 
            "version": "3.6.8", 
            "name": "python", 
            "file_extension": ".py", 
            "pygments_lexer": "ipython3", 
            "codemirror_mode": {
                "version": 3, 
                "name": "ipython"
            }
        }
    }, 
    "nbformat": 4
}