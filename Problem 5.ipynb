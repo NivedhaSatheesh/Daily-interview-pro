{
    "nbformat_minor": 1, 
    "cells": [
        {
            "execution_count": 1, 
            "cell_type": "code", 
            "metadata": {}, 
            "outputs": [], 
            "source": "class Node: \n  \n    # Constructor to initialize the node object \n    def __init__(self, data): \n        self.data = data \n        self.next = None"
        }, 
        {
            "execution_count": 3, 
            "cell_type": "code", 
            "metadata": {}, 
            "outputs": [], 
            "source": "class LinkedList: \n  \n    # Function to initialize head \n    def __init__(self): \n        self.head = None\n  \n    # Function to reverse the linked list \n    def reverse(self): \n        prev = None\n        current = self.head \n        while(current is not None): \n            next = current.next\n            current.next = prev \n            prev = current \n            current = next\n        self.head = prev \n          \n    # Function to insert a new node at the beginning \n    def push(self, new_data): \n        new_node = Node(new_data) \n        new_node.next = self.head \n        self.head = new_node \n    def printList(self): \n        temp = self.head \n        while(temp): \n            print(temp.data)\n            temp = temp.next"
        }, 
        {
            "execution_count": null, 
            "cell_type": "code", 
            "metadata": {}, 
            "outputs": [], 
            "source": ""
        }
    ], 
    "metadata": {
        "kernelspec": {
            "display_name": "Python 3.6", 
            "name": "python3", 
            "language": "python"
        }, 
        "language_info": {
            "mimetype": "text/x-python", 
            "nbconvert_exporter": "python", 
            "version": "3.6.8", 
            "name": "python", 
            "file_extension": ".py", 
            "pygments_lexer": "ipython3", 
            "codemirror_mode": {
                "version": 3, 
                "name": "ipython"
            }
        }
    }, 
    "nbformat": 4
}