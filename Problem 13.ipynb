{
    "nbformat_minor": 1, 
    "cells": [
        {
            "execution_count": 1, 
            "cell_type": "code", 
            "metadata": {}, 
            "outputs": [
                {
                    "output_type": "stream", 
                    "name": "stdout", 
                    "text": "22\n212\n1400\n100\n"
                }
            ], 
            "source": "def precedence(op): \n      \n    if op == '+' or op == '-': \n        return 1\n    if op == '*' or op == '/': \n        return 2\n    return 0   "
        }, 
        {
            "execution_count": 2, 
            "cell_type": "code", 
            "metadata": {}, 
            "outputs": [], 
            "source": "# Function to perform arithmetic operations. \ndef applyOp(a, b, op): \n      \n    if op == '+': return a + b \n    if op == '-': return a - b \n    if op == '*': return a * b \n    if op == '/': return a // b "
        }, 
        {
            "execution_count": null, 
            "cell_type": "code", 
            "metadata": {}, 
            "outputs": [], 
            "source": "# Function that returns value of expression after evaluation. \ndef evaluate(tokens): \n      \n    # stack to store integer values. \n    values = [] \n      \n    # stack to store operators. \n    ops = [] \n    i = 0\n    while i < len(tokens): \n          \n        # Current token is a whitespace,skip it. \n        if tokens[i] == ' ': \n            i += 1\n            continue\n          \n        # Current token is an opening brace, push it to 'ops' \n        elif tokens[i] == '(': \n            ops.append(tokens[i]) \n          \n        # Current token is a number, push it to stack for numbers. \n        elif tokens[i].isdigit(): \n            val = 0\n              \n            # There may be more than one \n            # digits in the number. \n            while (i < len(tokens) and\n                tokens[i].isdigit()): \n              \n                val = (val * 10) + int(tokens[i]) \n                i += 1\n            values.append(val) \n          \n        # Closing brace encountered,  \n        # solve entire brace. \n        elif tokens[i] == ')': \n          \n            while len(ops) != 0 and ops[-1] != '(': \n              \n                val2 = values.pop() \n                val1 = values.pop() \n                op = ops.pop() \n                  \n                values.append(applyOp(val1, val2, op)) \n              \n            # pop opening brace. \n            ops.pop() \n          \n        # Current token is an operator. \n        else: \n            while (len(ops) != 0 and\n                precedence(ops[-1]) >= precedence(tokens[i])): \n                          \n                val2 = values.pop() \n                val1 = values.pop() \n                op = ops.pop() \n                  \n                values.append(applyOp(val1, val2, op)) \n              \n            # Push current token to 'ops'. \n            ops.append(tokens[i]) \n          \n        i += 1\n      \n    # Entire expression has been parsed  \n    # at this point, apply remaining ops  \n    # to remaining values. \n    while len(ops) != 0: \n          \n        val2 = values.pop() \n        val1 = values.pop() \n        op = ops.pop() \n                  \n        values.append(applyOp(val1, val2, op))\n    return values[-1] \n  \n# Driver Code \nif __name__ == \"__main__\": \n      \n    print(evaluate(\"10 + 2 * 6\")) \n    print(evaluate(\"100 * 2 + 12\")) \n    print(evaluate(\"100 * ( 2 + 12 )\")) \n    print(evaluate(\"100 * ( 2 + 12 ) / 14\"))"
        }
    ], 
    "metadata": {
        "kernelspec": {
            "display_name": "Python 3.6", 
            "name": "python3", 
            "language": "python"
        }, 
        "language_info": {
            "mimetype": "text/x-python", 
            "nbconvert_exporter": "python", 
            "version": "3.6.8", 
            "name": "python", 
            "file_extension": ".py", 
            "pygments_lexer": "ipython3", 
            "codemirror_mode": {
                "version": 3, 
                "name": "ipython"
            }
        }
    }, 
    "nbformat": 4
}