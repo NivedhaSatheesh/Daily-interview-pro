{
    "nbformat_minor": 1, 
    "cells": [
        {
            "source": "You are given two non-empty linked lists representing two non-negative integers. The digits are stored in reverse order and each of their nodes contain a single digit. Add the two numbers and return it as a linked list.", 
            "cell_type": "markdown", 
            "metadata": {}
        }, 
        {
            "source": "# Definition for singly-linked list.\n# class ListNode(object):\n#   def __init__(self, x):\n#     self.val = x\n#     self.next = None", 
            "cell_type": "code", 
            "metadata": {}, 
            "outputs": [], 
            "execution_count": 1
        }, 
        {
            "source": "class Solution:\n    def addTwoNumbers(self, l1, l2,carry=0):\n        sum_num = l1.val + l2.val + carry\n        carry = sum_num // 10\n        result = ListNode(sum_num % 10 )\n        if (l1.next != None or l2.next !=None or carry !=0):\n            if l1.next == None:\n                l1.next = ListNode(0)\n            if l2.next == None:\n                l2.next = ListNode(0)\n            result.next=self.addTwoNumbers(l1.next,l2.next,carry)\n        return result", 
            "cell_type": "code", 
            "metadata": {}, 
            "outputs": [], 
            "execution_count": 1
        }, 
        {
            "source": "", 
            "cell_type": "code", 
            "metadata": {}, 
            "outputs": [], 
            "execution_count": null
        }
    ], 
    "metadata": {
        "kernelspec": {
            "display_name": "Python 3.6", 
            "name": "python3", 
            "language": "python"
        }, 
        "language_info": {
            "mimetype": "text/x-python", 
            "nbconvert_exporter": "python", 
            "version": "3.6.8", 
            "name": "python", 
            "pygments_lexer": "ipython3", 
            "file_extension": ".py", 
            "codemirror_mode": {
                "version": 3, 
                "name": "ipython"
            }
        }
    }, 
    "nbformat": 4
}